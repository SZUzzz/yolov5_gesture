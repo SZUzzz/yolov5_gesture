{
 "cells": [
  {
   "cell_type": "code",
   "id": "initial_id",
   "metadata": {
    "collapsed": true,
    "ExecuteTime": {
     "end_time": "2024-12-04T17:45:57.462775Z",
     "start_time": "2024-12-04T17:45:51.663263Z"
    }
   },
   "source": [
    "import torch\n",
    "from ultralytics import YOLO\n",
    "# 加载模型\n",
    "model = YOLO(model = '/home/rp/zz/yolov5/runs/train/exp/weights/best.pt')\n",
    "# 导出 ONNX 格式\n",
    "model.export(format='onnx')\n",
    "# # 有 GPU 就用 GPU\n",
    "# device = torch.device('cuda:0' if torch.cuda.is_available() else 'cpu')\n",
    "# print('device',device)\n"
   ],
   "outputs": [
    {
     "name": "stdout",
     "output_type": "stream",
     "text": [
      "Ultralytics 8.3.29 🚀 Python-3.10.13 torch-2.1.2 CPU (Intel Core(TM) i7-10700F 2.90GHz)\n"
     ]
    },
    {
     "name": "stderr",
     "output_type": "stream",
     "text": [
      "Fusing layers... \n",
      "YOLOv5s summary: 202 layers, 9089612 parameters, 0 gradients, 20.5 GFLOPs\n"
     ]
    },
    {
     "name": "stdout",
     "output_type": "stream",
     "text": [
      "\n",
      "\u001B[34m\u001B[1mPyTorch:\u001B[0m starting from '/home/rp/zz/yolov5/runs/train/exp/weights/best.pt' with input shape (1, 3, 640, 640) BCHW and output shape(s) ((1, 25200, 12), ()) (17.7 MB)\n",
      "\u001B[31m\u001B[1mrequirements:\u001B[0m Ultralytics requirement ['onnxslim'] not found, attempting AutoUpdate...\n",
      "\u001B[31m\u001B[1mrequirements:\u001B[0m ❌ AutoUpdate skipped (offline)\n",
      "\n",
      "\u001B[34m\u001B[1mONNX:\u001B[0m starting export with onnx 1.16.0 opset 17...\n",
      "\u001B[34m\u001B[1mONNX:\u001B[0m simplifier failure: No module named 'onnxslim'\n",
      "\u001B[34m\u001B[1mONNX:\u001B[0m export success ✅ 0.8s, saved as '/home/rp/zz/yolov5/runs/train/exp/weights/best.onnx' (35.1 MB)\n",
      "\n",
      "Export complete (2.4s)\n",
      "Results saved to \u001B[1m/home/rp/zz/yolov5/runs/train/exp/weights\u001B[0m\n",
      "Predict:         yolo predict task=detect model=/home/rp/zz/yolov5/runs/train/exp/weights/best.onnx imgsz=640  \n",
      "Validate:        yolo val task=detect model=/home/rp/zz/yolov5/runs/train/exp/weights/best.onnx imgsz=640 data=None  \n",
      "Visualize:       https://netron.app\n"
     ]
    },
    {
     "data": {
      "text/plain": [
       "'/home/rp/zz/yolov5/runs/train/exp/weights/best.onnx'"
      ]
     },
     "execution_count": 1,
     "metadata": {},
     "output_type": "execute_result"
    }
   ],
   "execution_count": 1
  }
 ],
 "metadata": {
  "kernelspec": {
   "display_name": "Python 3",
   "language": "python",
   "name": "python3"
  },
  "language_info": {
   "codemirror_mode": {
    "name": "ipython",
    "version": 2
   },
   "file_extension": ".py",
   "mimetype": "text/x-python",
   "name": "python",
   "nbconvert_exporter": "python",
   "pygments_lexer": "ipython2",
   "version": "2.7.6"
  }
 },
 "nbformat": 4,
 "nbformat_minor": 5
}
